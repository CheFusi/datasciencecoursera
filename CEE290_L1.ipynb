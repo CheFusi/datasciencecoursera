{
  "nbformat": 4,
  "nbformat_minor": 0,
  "metadata": {
    "colab": {
      "provenance": [],
      "include_colab_link": true
    },
    "kernelspec": {
      "name": "ir",
      "display_name": "R"
    },
    "language_info": {
      "name": "R"
    }
  },
  "cells": [
    {
      "cell_type": "markdown",
      "metadata": {
        "id": "view-in-github",
        "colab_type": "text"
      },
      "source": [
        "<a href=\"https://colab.research.google.com/github/CheFusi/datasciencecoursera/blob/main/CEE290_L1.ipynb\" target=\"_parent\"><img src=\"https://colab.research.google.com/assets/colab-badge.svg\" alt=\"Open In Colab\"/></a>"
      ]
    },
    {
      "cell_type": "markdown",
      "source": [
        "We'll be using Google Colab to run R. Colab allows you to write and execute Python in your browser without special configuration. You can also set it up to run R on it. If you'd like to use traditional R and R Studio for your personal use, it's free to download from https://posit.co/download/rstudio-desktop/ but for easy access to your scripts for debugging purposes, we'll work on Colab for this class. Please save a copy of this Colab in your drive so that you have your own copy to work with. Although it should already be set up to run R, you can check by going to \"Runtime\" on the top toolbar and selecting \"Change runtime type.\" Runtime type should be selected as R in the dropdown menu."
      ],
      "metadata": {
        "id": "epc9CXdLmJgU"
      }
    },
    {
      "cell_type": "markdown",
      "source": [
        "# Prelab\n",
        "This prelab is mainly geared towards those who have never coded before and need to start with the basics. If you have coded before, you may already be very familiar with all the concepts here. The content was modified from W3Schools, which is an online platform that provides web development tutorials for various programming languages. If you're interested in learning R more in depth, feel free to visit their website and go through their tutorials!  "
      ],
      "metadata": {
        "id": "Vl2tLyrrlufD"
      }
    },
    {
      "cell_type": "markdown",
      "source": [
        "## Using R on Colab\n",
        "First, let's look at the syntax and how to run chunks of code in Colab. You'll notice that each \"chunk\" of text is either classified into code or text. For example, this box is a text chunk where you can write/edit text to describe things. Code chunks, like the one below, have a little play sign to the left of the chunk, which will allow you to \"run\" those chunks in order to execute the code that's contained in the chunk. Try running the below calculation by pressing the play button. You can also press CTRL + Enter in order to run the chunk you've selected as well."
      ],
      "metadata": {
        "id": "afe23LVLoh69"
      }
    },
    {
      "cell_type": "code",
      "source": [
        "3+3"
      ],
      "metadata": {
        "id": "7tpWFmgtcDob"
      },
      "execution_count": null,
      "outputs": []
    },
    {
      "cell_type": "markdown",
      "source": [
        "While you're writing your code, you may want to leave little notes for yourself and future readers of your code within the code itself. Then you can use # to create comments within the code chunk as seen below. The text after # will show up in green and whatever is in here will not actually be run. Make sure you comment diligently in your code so you and others will know what each line of code is doing! This will help in the future when you're debugging."
      ],
      "metadata": {
        "id": "MSy9VnRnb1Q0"
      }
    },
    {
      "cell_type": "code",
      "source": [
        "#This is a comment\n",
        "3+6 #When you run this chunk of code, it should only give you the result of whatever is not a comment"
      ],
      "metadata": {
        "id": "tuocBoMSdQuw"
      },
      "execution_count": null,
      "outputs": []
    },
    {
      "cell_type": "markdown",
      "source": [
        "## Creating Variables\n",
        "A variable is created when you first assign a value to it. To assign a value, you use the \"**<-**\" sign. To output a variable value, you can just type the variable name or use print(variable name). You can use \"**=**\" or \"**<-**\" to assign variables but \"**<-**\" is preferred since \"**=**\" can be only used in certain context."
      ],
      "metadata": {
        "id": "q9LWfeHGd3aE"
      }
    },
    {
      "cell_type": "code",
      "source": [
        "x <- 3\n",
        "#Notice when you run this chunk, it doesn't output anything.\n",
        "#Your variable has been saved but you didn't tell your chunk to output anything, which is why nothing shows up when you run it."
      ],
      "metadata": {
        "id": "DMpxxlXPeWU0"
      },
      "execution_count": null,
      "outputs": []
    },
    {
      "cell_type": "code",
      "source": [
        "x\n",
        "print(x)\n",
        "#But when you run this chunk you'll now have the outputs of the variable that you've set above."
      ],
      "metadata": {
        "colab": {
          "base_uri": "https://localhost:8080/",
          "height": 51
        },
        "id": "5anmGV-peoah",
        "outputId": "9a12d3ae-5c91-4950-8563-d2463aa87390"
      },
      "execution_count": null,
      "outputs": [
        {
          "output_type": "display_data",
          "data": {
            "text/html": [
              "3"
            ],
            "text/markdown": "3",
            "text/latex": "3",
            "text/plain": [
              "[1] 3"
            ]
          },
          "metadata": {}
        },
        {
          "output_type": "stream",
          "name": "stdout",
          "text": [
            "[1] 3\n"
          ]
        }
      ]
    },
    {
      "cell_type": "markdown",
      "source": [
        "Here are the rules for creating variable names:\n",
        "1. A variable name must start with a letter and can be a combination of letters, digits, period, and underscore.\n",
        "2. A variable name cannott start with a number or underscore.\n",
        "3. Variable names are case-sensitive, which means that the following variables would be three different variables: test, TEST, Test.\n",
        "4. Certain words that have meaning in R, such as TRUE, FALSE, NULL, etc, cannot be used as variable names.\n",
        "\n",
        "Variables can be a variety of data types. Few of the basic data types in R that you'll see most often are:\n",
        "1. Numeric (numbers like 5, 1.3, 3945)\n",
        "2. Character or string denoted by \"\" (\"string\", \"name\")\n",
        "3. Logical (TRUE or FALSE)\n",
        "\n",
        "You can use the function **class(variable)** to check the data type of a variable.\n",
        "\n"
      ],
      "metadata": {
        "id": "gOOxxOXQg88g"
      }
    },
    {
      "cell_type": "code",
      "source": [
        "class(x) #This is a variable that we set above. It should be numeric since it's a number 3"
      ],
      "metadata": {
        "id": "eptw5Lvrg5OI"
      },
      "execution_count": null,
      "outputs": []
    },
    {
      "cell_type": "markdown",
      "source": [
        "### Exercise #1\n",
        "Try setting a variable named Name and setting its value to your name. Remember that your name would fall under the category of a string. After setting your variable, check the class by using the **class()** function."
      ],
      "metadata": {
        "id": "DpHL7477mh5P"
      }
    },
    {
      "cell_type": "code",
      "source": [
        "#Set your variable here:\n",
        "\n"
      ],
      "metadata": {
        "id": "hUiQNRd-lhwx"
      },
      "execution_count": null,
      "outputs": []
    },
    {
      "cell_type": "code",
      "source": [
        "#Check the class of your newly created variable:\n",
        "\n"
      ],
      "metadata": {
        "id": "pPFTUzwmnEu_"
      },
      "execution_count": null,
      "outputs": []
    },
    {
      "cell_type": "markdown",
      "source": [
        "## Data structures\n",
        "Some of the different types of data stsructures other than a single element that we'll often look at are:\n",
        "1. Vectors: list of items of the same type (ex: 1, 2, 3 or \"string 1\", \"string 2\")\n",
        "2. Data frames: data displayed ina format as a table\n",
        "\n",
        "You can create a vector by using **c(elements)** as follows:\n",
        "\n",
        "\n"
      ],
      "metadata": {
        "id": "9s1ZFY5k5FSl"
      }
    },
    {
      "cell_type": "code",
      "source": [
        "#Setting vector1 to be a list of numbers 1, 2, 3 and vector 2 as list of strings \"string 1\" and \"string 2\"\n",
        "vector1 <- c(1, 2, 3)\n",
        "vector2 <- c(\"string 1\", \"string 2\")\n",
        "\n",
        "print(vector1)\n",
        "print(vector2)"
      ],
      "metadata": {
        "id": "AUQvaxXt6awL"
      },
      "execution_count": null,
      "outputs": []
    },
    {
      "cell_type": "markdown",
      "source": [
        "Data frames can have different types of data inside it, whether it be character or numeric. Often, we'll import a csv file or an excel file into R as a data frame and work with the imported data. We'll discuss data frames and how to work with them in a future assignment."
      ],
      "metadata": {
        "id": "5Da6uWzf6zFl"
      }
    },
    {
      "cell_type": "markdown",
      "source": [
        "## Creating if statements\n",
        "Conditional statements are used to perform different actions based on different conditions. The syntax for an if statement is as follows:\n",
        "\n",
        "**if (condition) {**\n",
        "\n",
        "   **action to be done when condition is met**\n",
        "\n",
        "**}**\n",
        "\n",
        "If the condition within the if statement is not met, then nothing happens. Look at the following if statement and think about what the output should be before you run the code."
      ],
      "metadata": {
        "id": "kiZGpkTRqqEB"
      }
    },
    {
      "cell_type": "code",
      "source": [
        "#Creating variables to be used in the if statement\n",
        "a <- 40\n",
        "b <- 294\n",
        "\n",
        "if (a > b) {\n",
        "  print(\"a is greater than b\")\n",
        "}"
      ],
      "metadata": {
        "id": "gNqI1KBbrxjJ"
      },
      "execution_count": null,
      "outputs": []
    },
    {
      "cell_type": "markdown",
      "source": [
        "You'll notice that nothing gets printed when you run the chunk above because the condition in the if statement was not met. Now try the following code where the condition in the if statement is TRUE."
      ],
      "metadata": {
        "id": "xCSaku4RsENs"
      }
    },
    {
      "cell_type": "code",
      "source": [
        "if (b > a) {\n",
        "  print(\"b is greater than a\")\n",
        "}"
      ],
      "metadata": {
        "colab": {
          "base_uri": "https://localhost:8080/"
        },
        "id": "MdEto_UEsOIi",
        "outputId": "1c286917-51f8-462c-e9bd-95525a35f860"
      },
      "execution_count": null,
      "outputs": [
        {
          "output_type": "stream",
          "name": "stdout",
          "text": [
            "[1] \"b is greater than a\"\n"
          ]
        }
      ]
    },
    {
      "cell_type": "markdown",
      "source": [
        "You can also put in multiple conditions by using an else if statement. When you use an else if statement, the code will read from the top and check which condition is TRUE from the top. The syntax for an else if statement is:\n",
        "\n",
        "**if (1st condition) {**\n",
        "\n",
        "  **action to be done when 1st condition is met**\n",
        "\n",
        "**} else if (2nd condition) {**\n",
        "\n",
        "  **action to be done when 2nd condition is met**\n",
        "\n",
        "**}**\n",
        "\n",
        "Lastly, if you want a catch-all condition at the end that will execute if all conditions set above are not met, then you can use else as follows:\n",
        "\n",
        "**if (condition) {**\n",
        "\n",
        "  **action to be done when condition is met**\n",
        "\n",
        "**} else {**\n",
        "  \n",
        "  **action to be done when condition is NOT met**\n",
        "\n",
        "**}**\n"
      ],
      "metadata": {
        "id": "8Jy-A4TgsT24"
      }
    },
    {
      "cell_type": "markdown",
      "source": [
        "### Exercise 2\n",
        "Finish the following if loop so that it uses all three if statement syntax: if, else if, and else to execute the following:\n",
        "1. First condition is if b is equal to a, then print \"b is equal to a\"\n",
        "2. Second condition is if a is greater than b, then print \"a is greater than b\"\n",
        "3. If none of the conditions meet, then print \"b is greater than a\"  \n",
        "\n",
        "With the current variable a & b (which are 40 and 294 respectively), you should get that b is greater than a."
      ],
      "metadata": {
        "id": "1MY3mfhltfiR"
      }
    },
    {
      "cell_type": "code",
      "source": [
        "#Note that equal to is written with two equal signs: ==\n",
        "if (b == a) {\n",
        "\n",
        "} else if () {\n",
        "\n",
        "} else {\n",
        "\n",
        "}\n",
        "\n",
        "#After you fill in the blanks within this if statement, run the chunk to see if you get the expected result."
      ],
      "metadata": {
        "id": "VeLhF3OMucjG"
      },
      "execution_count": null,
      "outputs": []
    },
    {
      "cell_type": "markdown",
      "source": [
        "Now try re-setting your variable a & b to be different numbers and running the if statement above again to see if you get your expected results."
      ],
      "metadata": {
        "id": "SgkT8RFFuuBW"
      }
    },
    {
      "cell_type": "code",
      "source": [
        "#Reset a & b to be different numbers of your choice here\n",
        "a <-\n",
        "b <-\n",
        "\n",
        "#Now run this chunk to reset your variable and then run the chunk with the if statement that you created above to see if you get your expected result."
      ],
      "metadata": {
        "id": "lELP4X14u4Bv"
      },
      "execution_count": null,
      "outputs": []
    },
    {
      "cell_type": "markdown",
      "source": [
        "## Creating for loops\n",
        "Loops are one of the most commonly used programming elements that repeat a portion of code until the desired process is complete. Loops are critical in saving time and minimizing errors. We'll review for loops here.\n",
        "\n",
        "For loops are used for iterating over a sequence that you set. The syntax is as follows:\n",
        "\n",
        "**for (sequence to be iterated over) {**\n",
        "\n",
        "**action to be done**\n",
        "\n",
        "**}**\n",
        "\n",
        "The indexing variable within the condition does not have to be set beforehand. You can either set the loop to reiterate a set number of times by giving it an exact sequence or have it be dependent on a variable. Let's look at some examples:"
      ],
      "metadata": {
        "id": "7JY9ujDtooFl"
      }
    },
    {
      "cell_type": "code",
      "source": [
        "#Here we'll set the sequence to be 1, 2, 3, ... 9, 10. This can be done by using 1:10.\n",
        "#i is our indexing variable that we are setting to be 1 through 10.\n",
        "\n",
        "for (i in 1:10) {\n",
        "  print (i)\n",
        "}\n",
        "\n",
        "#Run this code and see what output you get."
      ],
      "metadata": {
        "id": "BIVB6pSPy1ML"
      },
      "execution_count": null,
      "outputs": []
    },
    {
      "cell_type": "markdown",
      "source": [
        "In the above code, each time our indexing variable is set to be a number, it prints that number. In the first iteration i is equal to 1 so it prints 1. Then it loops back and i is equal to the next number in the sequence, which is 2 so it prints 2. And it continues until it reaches the end of the sequence when i is 10."
      ],
      "metadata": {
        "id": "EgrJzzGiz0kF"
      }
    },
    {
      "cell_type": "code",
      "source": [
        "#Here we'll set the sequence to be dependent on a variable by specifying it so in the for loop condition.\n",
        "#i is again our indexing variable. It'll reset i as this for loop is run.\n",
        "\n",
        "#We're setting a variable vector here called i_list that we want i use as a sequence.\n",
        "i_list <- c(1, 3, 4, 7)\n",
        "\n",
        "for (i in i_list) {\n",
        "  print (i)\n",
        "}\n",
        "\n",
        "#Run this code and see what output you get."
      ],
      "metadata": {
        "id": "w-xiNDcF0nHV"
      },
      "execution_count": null,
      "outputs": []
    },
    {
      "cell_type": "markdown",
      "source": [
        "This time, instead of saying run this code 10 times, we said run this code however many times there's an element in the variable i_list, which is why the code only ran four times."
      ],
      "metadata": {
        "id": "wjEcpc7E1ezG"
      }
    },
    {
      "cell_type": "markdown",
      "source": [
        "### Exercise 3\n",
        "Let's try combining a for loop and an if statement. Fill in the for loop below so that the indexing variable i loops over the i_list vector that we made above and looks at the following conditions:\n",
        "1. If i is equal to 3, then multiply i by 100 and print the number.\n",
        "2. If i is less than 3, then multiply i by -1 and print the number.\n",
        "3. If none of the two conditions are met, then print i.\n",
        "\n",
        "Think about what output you should get and finish the code to see if it ran correctly!"
      ],
      "metadata": {
        "id": "EifkWJYg1tDw"
      }
    },
    {
      "cell_type": "code",
      "source": [
        "#Finish the for loop here:\n",
        "for (i in ) {\n",
        "  if () {\n",
        "    print(i*100) #Multiplication is done using *\n",
        "  } else if () {\n",
        "    print ()\n",
        "    } else {}\n",
        "}"
      ],
      "metadata": {
        "id": "164wpW5P2eVp"
      },
      "execution_count": null,
      "outputs": []
    },
    {
      "cell_type": "markdown",
      "source": [
        "# Lecture 1 R Demo\n",
        "In today's R demo, we'll learn how to import data and run descriptive statistics.\n"
      ],
      "metadata": {
        "id": "jbwOYL_bnxz7"
      }
    },
    {
      "cell_type": "markdown",
      "source": [
        "## Opening packages\n",
        "Before we get to importing data, let's learn about packages in R. Packages are a set of R functions, compiled code, and sample data that's been developed for a certain use case. These packages are stored under a directory called library in R.\n",
        "\n",
        "In colab, you should be able to just call whatever packages you need by running:\n",
        "\n",
        "**library(package name)**\n",
        "\n",
        "In R, some packages come automatically whereas some packages you'll need to install the first time you're using them and then open them by using the following commands:\n",
        "\n",
        "**install.packages(\"package name\")**\n",
        "\n",
        "**library(package name)**\n",
        "\n",
        "For today, we'll need the following packages: readr, dplyr, and ggplot2. readr is a package that deals with importing data; dplyr is a package for dealing with data; lastly ggplot2 is a data visualization package. readr is already set up but try setting dplyr and ggplot2 yourself and run the code chunk below to open the packages that you need."
      ],
      "metadata": {
        "id": "wGtk7AGuOVS-"
      }
    },
    {
      "cell_type": "code",
      "source": [
        "#Packages needed for this assignment\n",
        "library(readr)\n",
        "\n"
      ],
      "metadata": {
        "id": "KTgJdBBc7i7K"
      },
      "execution_count": null,
      "outputs": []
    },
    {
      "cell_type": "markdown",
      "source": [
        "## Importing data\n",
        "Importing data is a little different in colab than when you're using in R. For this class, we'll have all the data that we're using in a Google Drive and tell colab to read from that Drive. You'll use the following commands to do so:\n",
        "\n",
        "**require(googlesheets4)**\n",
        "\n",
        "**require(googledrive)**\n",
        "\n",
        "Copy and paste the two commands for google drive here and run the code chunk below."
      ],
      "metadata": {
        "id": "8jRFRoZmPfOJ"
      }
    },
    {
      "cell_type": "code",
      "source": [
        "#Setting up colab to read from Google Drive\n",
        "\n"
      ],
      "metadata": {
        "id": "FA8cE8wxRMvK"
      },
      "execution_count": null,
      "outputs": []
    },
    {
      "cell_type": "markdown",
      "source": [
        "Now that we've set up colab to read from Google Drive, we'll tell it where to read from and what to name the data.\n",
        "\n",
        "In this exercise we'll be looking at concentration of a virus called PMMoV (Pepper Mild Mottle Virus) in some wastewater samples. This is a pepper virus that's prevalent in pepper products and can therefore be found commonly in human stool when people eat pepper products whether that be bell peppers or hot sauce! So when you look at its concentration in wastewater, it serves as indicator for fecal strength of the wastewater.\n",
        "\n",
        "You can use the following command to read the datasheet and then assign a name to it, just as we did when we created a variable in prelab. One thing to note is that if the datasheet is an excel file that was uploaded into Google Drive, then it will not be able to use this command (You get a \"FAILED_PRECONDITION\" error). Once you save as Google sheets, you'll be able to run this command.  \n",
        "\n",
        "**name <- read_sheet(\"address of data\")**\n",
        "\n",
        "Once you run this command, colab will ask you \"**Is it OK to cache OAuth access credentials in the folder ~/.cache/gargle between R sessions?**\"\n",
        "If you don't want to do your two step authentication every time, press 1 for Yes. If you'd rather authenticate every time, then press 2 for No.\n",
        "\n",
        "Then colab will ask you to **\"Enter a number between 1 and 2, or enter 0 to exit.\"**\n",
        "Press 1 or 2 to continue and 0 to cancel the authentication process.\n",
        "\n",
        "Then colab will give you a link where you can authenticate. Follow the directions provided.\n",
        "\n",
        "We'll put all the data that we work with for this class in this Google  drive, which you should be able to view with your Berkeley account. Feel free to check out the original spreadsheet: https://drive.google.com/drive/u/0/folders/1Pv6_lCyLen7wT0ZVVADUVxictqtIzJgk\n",
        "\n",
        "Let's try it in the code chunk below. We'll name our data frame df_PMMoV."
      ],
      "metadata": {
        "id": "iUwivrZsRgK8"
      }
    },
    {
      "cell_type": "code",
      "source": [
        "df_PMMoV <- read_sheet(\"https://docs.google.com/spreadsheets/d/1Mz7fvv4qJNk8ZCDGwanhE2DKXQeOljcWB33zqeSAKwI/edit#gid=1527312560\", na = \"NA\")"
      ],
      "metadata": {
        "id": "HvzhvRuaTIdj"
      },
      "execution_count": null,
      "outputs": []
    },
    {
      "cell_type": "markdown",
      "source": [
        "Notice how we had to specify what NA means in the spreadsheet. If you don't have this last part (..., na=\"NA\") then R gets confused because it's a column with two different types of variable: numeric where there are numbers and character where it's written NA to represent missing data.\n",
        "\n",
        "There are a few different ways to look at your data frame that you just imported. If you want to see the whole data frame, use\n",
        "\n",
        "**View(data frame name)**\n",
        "\n",
        "This will let you look at the entire data frame. If it's big, then even View will skip some to give you the first and the last rows of your data frame. But you might have a million rows in your data, in which case you don't want to just open it up in the middle of your code. Then you can use the command\n",
        "\n",
        "**head(data frame name)**\n",
        "\n",
        "and this will show you a manageable portion of the data frame. Try both commands below with df_PMMoV."
      ],
      "metadata": {
        "id": "YmLreS0oVQfu"
      }
    },
    {
      "cell_type": "code",
      "source": [
        "#Use View to look at the entire data frame df_PMMoV\n",
        "\n"
      ],
      "metadata": {
        "id": "ijh8j4EOVP9e"
      },
      "execution_count": null,
      "outputs": []
    },
    {
      "cell_type": "code",
      "source": [
        "#Use head to look at the first few rows of the data frame df_PMMoV\n",
        "\n"
      ],
      "metadata": {
        "id": "jxwOrFCYWHij"
      },
      "execution_count": null,
      "outputs": []
    },
    {
      "cell_type": "markdown",
      "source": [
        "Sometimes your data might not be imported as the correct variable type (numeric, date, character, etc). Notice how both View and head will let you know what variable type each column is. Always check to make sure it's the right variable type.\n",
        "\n",
        "To get a general sense of the data frame, you can use the function **summary()**, which wiill show you what type of variable each column is and some descriptive statistics like min, 1st quartile, median, 3rd quatile, and max of the values in column if the column is numerical."
      ],
      "metadata": {
        "id": "X5igz3YFWZh3"
      }
    },
    {
      "cell_type": "code",
      "source": [
        "summary(df_PMMoV)"
      ],
      "metadata": {
        "id": "YSMlehFqY4J5"
      },
      "execution_count": null,
      "outputs": []
    },
    {
      "cell_type": "markdown",
      "source": [
        "But this dataset is actually composed of PMMoV concentrations from two different types of samples (solid and influent wastewater) and from five different wastewater treatment plants (acronym AA, JI, OC, OS, and SB) so lumping everything together to look at descriptive stats isn't really helpful.\n",
        "\n",
        "To group data by certain columns, we use the group_by() function to perform operations \"by group.\"\n",
        "\n",
        "**data %>% group_by(grouping variable or variables) %>% summarise(stats that you want to summarize with)**\n",
        "\n",
        "**%>%** is part of the dplyr package and it helps you pipe the left side of the operator to the first argument of the right hand side. So for example, instead of doing **head(df_PMMoV)**, we could also do **df_PMMoV %>% head()** and we'll get the same result."
      ],
      "metadata": {
        "id": "gPNih6EBd5aw"
      }
    },
    {
      "cell_type": "code",
      "source": [
        "df_PMMoV %>%\n",
        "  group_by(plant, matrix) %>%\n",
        "    summarise(avg = mean(value))\n",
        "#avg here is the name that I'm giving to the value that will be summarized by the mean() function"
      ],
      "metadata": {
        "id": "uLeT9Z_Ke1H8"
      },
      "execution_count": null,
      "outputs": []
    },
    {
      "cell_type": "markdown",
      "source": [
        "Now let's try to use the same code but add to some more descriptive stats to it. Some useful functions are:\n",
        "* Measures of central tendency: **mean(), median()**\n",
        "* Measures of dispersion: **sd(), IQR(), min(), max()**"
      ],
      "metadata": {
        "id": "0b7k1XJDgiGQ"
      }
    },
    {
      "cell_type": "code",
      "source": [
        "#Complete the code by putting in median, standard deviation, the interquartile range, and the range in the summarise function\n",
        "df_PMMoV %>%\n",
        "  group_by(plant, matrix) %>%\n",
        "    summarise(avg = mean(value), )"
      ],
      "metadata": {
        "id": "8HV-Isy8guVV"
      },
      "execution_count": null,
      "outputs": []
    },
    {
      "cell_type": "markdown",
      "source": [
        "Lastly, let's visualize what this data looks like in a scatterplot and a boxplot. To do this, we'll use ggplot, give it our dataset and then tell it what type of plot we want to create and different parameters for it. The usual syntax is as follows:\n",
        "\n",
        "**ggplot(data frame, aes(aesthetic parameters such as what goes on the x and y axis, colors, etc)) +**\n",
        "\n",
        "**geom_type() +**\n",
        "\n",
        "**various parameters()**\n",
        "\n",
        "There are many different plots that you can create with ggplot but the ones that we'll use today are **geom_point** for the scatterplot and **geom_boxplot** for the boxplot.\n",
        "\n",
        "Let's try running this basic structure for a scatterplot.\n"
      ],
      "metadata": {
        "id": "xNM3U8D_lu63"
      }
    },
    {
      "cell_type": "code",
      "source": [
        "ggplot(df_PMMoV, aes(x = date, y = value)) +\n",
        "  geom_point()"
      ],
      "metadata": {
        "id": "2XMQnI-wnEVG"
      },
      "execution_count": null,
      "outputs": []
    },
    {
      "cell_type": "markdown",
      "source": [
        "Now this again is all our data and doesn't make much sense. So we'll group it again by plant and matrix. We want to create one scatterplot for each with different plants going across and different matrix going down so we'll use the command **facet_grid()** after what we ran."
      ],
      "metadata": {
        "id": "6po1c2-hndAk"
      }
    },
    {
      "cell_type": "code",
      "source": [
        "ggplot(df_PMMoV, aes(x = date, y = value)) +\n",
        "  geom_point() +\n",
        "  facet_grid(cols = vars(plant), rows = vars(matrix), scales = \"free\")\n",
        "  #scales = \"free\" means that both x and y axis don't have to be uniform across the entire plot."
      ],
      "metadata": {
        "id": "25rksQ80n5Wt"
      },
      "execution_count": null,
      "outputs": []
    },
    {
      "cell_type": "markdown",
      "source": [
        "Now the data is separated so that it makes sense. Let's make it a little nicer and a little more legible by adding some aesthetic components as well as putting the y-axis in log-scale so that we can look at big changes."
      ],
      "metadata": {
        "id": "cs7D7z4Op9vL"
      }
    },
    {
      "cell_type": "code",
      "source": [
        "ggplot(df_PMMoV, aes(x = date, y = value, color = plant, shape = matrix)) +\n",
        "  geom_point() +\n",
        "  facet_grid(cols = vars(plant), rows = vars(matrix), scales = \"free\") +\n",
        "  scale_y_continuous(trans = \"log10\") +  #Setting the y-axis to be log-scale\n",
        "  theme_bw() + #Changing the overall theme\n",
        "  theme(axis.text.x = element_text(angle =45, hjust = 1)) #turning x-axis so that it's legible"
      ],
      "metadata": {
        "id": "oS8fmR-cqeNi"
      },
      "execution_count": null,
      "outputs": []
    },
    {
      "cell_type": "markdown",
      "source": [
        "Feel free to play around with themes, colors, and shapes!\n",
        "\n",
        "Next, let's do the same thing for boxplots. Try writing just the basic ggplot form with geom_boxplot where we have the different plants on the x-axis and the concentration of PMMoV on the y-axis."
      ],
      "metadata": {
        "id": "lLYgG3okr1vj"
      }
    },
    {
      "cell_type": "code",
      "source": [
        "#Use geom_boxplot to create a basic boxplot for all data here\n",
        "\n"
      ],
      "metadata": {
        "id": "DepXlY-HsMMp"
      },
      "execution_count": null,
      "outputs": []
    },
    {
      "cell_type": "markdown",
      "source": [
        "We want to separate the solid and the influent concentration but want them to be right next to each other. In this case, you can use the **fill** parameter within the aesthetics. Try adding **fill = matrix** after specifying x and y values."
      ],
      "metadata": {
        "id": "wiH9CgFisim3"
      }
    },
    {
      "cell_type": "code",
      "source": [
        "#Copy over your previous code for the boxplot and add the fill parameter.\n",
        "\n",
        "\n"
      ],
      "metadata": {
        "id": "H2UhZGrpszMn"
      },
      "execution_count": null,
      "outputs": []
    },
    {
      "cell_type": "markdown",
      "source": [
        "And again, let's make things a little prettier and easier to read. Put the y-axis to log-scale so that we can look at the solid and the influent data on the same plot and choose a theme that you like! Some potential themes that you could try are: **theme_grey(), theme_bw(), theme_light(), theme_dark(), theme_classic(), theme_minimal(), theme_void(),** among others."
      ],
      "metadata": {
        "id": "VE3tq_1Ys6-4"
      }
    },
    {
      "cell_type": "code",
      "source": [
        "#Copy over your previous code for the boxplot and add in parameters to make your plot better!\n",
        "\n",
        "\n"
      ],
      "metadata": {
        "id": "_dxOx87ktpzh"
      },
      "execution_count": null,
      "outputs": []
    },
    {
      "cell_type": "markdown",
      "source": [
        "That's it for today! In your homework, we'll ask you to run similar descriptive statistics on a different but similar set of data as well as looking at the distribution and constructing confidence intervals, which we'll cover next class."
      ],
      "metadata": {
        "id": "UpZbPuNJj6IF"
      }
    }
  ]
}